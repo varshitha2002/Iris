{
 "cells": [
  {
   "cell_type": "code",
   "execution_count": 8,
   "id": "bfe27e11",
   "metadata": {
    "scrolled": false
   },
   "outputs": [
    {
     "name": "stdout",
     "output_type": "stream",
     "text": [
      "1) setosa\n",
      "2) setosa\n",
      "3) setosa\n",
      "4) virginica\n",
      "5) virginica\n"
     ]
    }
   ],
   "source": [
    "from sklearn.datasets import load_iris\n",
    "from sklearn import metrics\n",
    "from sklearn.model_selection import train_test_split\n",
    "from sklearn.metrics import accuracy_score\n",
    "from sklearn.linear_model import LogisticRegression\n",
    "#from sklearn.neighbors import KNeighborsClassifier\n",
    "import joblib\n",
    "import numpy as np\n",
    "import csv\n",
    "\n",
    "iris = load_iris()\n",
    "\n",
    "X = iris.data\n",
    "y = iris.target\n",
    "\n",
    "X_train, X_test, y_train, y_test = train_test_split(X, y, test_size = 0.2)\n",
    "\n",
    "logreg = LogisticRegression(solver='lbfgs',max_iter = 1000)\n",
    "logreg.fit(X_train, y_train)\n",
    "joblib.dump(logreg, 'iris-predictor.joblib')\n",
    "model = joblib.load('iris-predictor.joblib')\n",
    "\n",
    "### Testing the accuracy using the test data\n",
    "#y_pred = model.predict(X_test)\n",
    "#print(y_pred,y_test)\n",
    "#score = metrics.accuracy_score(y_test,y_pred)\n",
    "#score\n",
    "\n",
    "with open(\"test.csv\") as file_name:\n",
    "    file_read = csv.reader(file_name, delimiter = \",\")\n",
    "\n",
    "    array = list(file_read)\n",
    "array.pop(0)\n",
    "for i in range(len(array)):\n",
    "    array[i].pop(0)\n",
    "    array[i] = list(map(int,array[i]))\n",
    "\n",
    "header = ['ID', 'SepalLength', 'SepalWidth', 'Petallength', 'PetalWidth', 'Prediction']\n",
    "\n",
    "with open('Results.csv', 'w') as fp:\n",
    "    writer = csv.writer(fp)\n",
    "    writer.writerow(header)\n",
    "    for i in range(len(array)):\n",
    "        prediction_Array = []\n",
    "        prediction_Array.append(str(i+1))\n",
    "        prediction = iris.target_names[model.predict([array[i]])[0]]\n",
    "        for values in array[i]:\n",
    "            prediction_Array.append(values)\n",
    "        prediction_Array.append(prediction.capitalize())\n",
    "        writer.writerow(prediction_Array)\n",
    "        print(f\"{i+1}) {prediction}\")\n",
    "fp.close()\n",
    "\n",
    "\n",
    "\n"
   ]
  },
  {
   "cell_type": "code",
   "execution_count": null,
   "id": "c04d3b1a",
   "metadata": {},
   "outputs": [],
   "source": []
  },
  {
   "cell_type": "code",
   "execution_count": null,
   "id": "e86ccb5a",
   "metadata": {},
   "outputs": [],
   "source": []
  }
 ],
 "metadata": {
  "kernelspec": {
   "display_name": "Python 3",
   "language": "python",
   "name": "python3"
  },
  "language_info": {
   "codemirror_mode": {
    "name": "ipython",
    "version": 3
   },
   "file_extension": ".py",
   "mimetype": "text/x-python",
   "name": "python",
   "nbconvert_exporter": "python",
   "pygments_lexer": "ipython3",
   "version": "3.8.8"
  }
 },
 "nbformat": 4,
 "nbformat_minor": 5
}
